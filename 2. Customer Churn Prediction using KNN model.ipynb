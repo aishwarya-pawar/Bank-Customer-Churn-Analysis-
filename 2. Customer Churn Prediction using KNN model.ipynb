{
 "cells": [
  {
   "cell_type": "markdown",
   "metadata": {},
   "source": [
    "#### KNN to predict customers who are likely to churn\n",
    "\n",
    "With KNN, we predicted the customers who are likely to churn with 79% accuracy"
   ]
  },
  {
   "cell_type": "code",
   "execution_count": 22,
   "metadata": {},
   "outputs": [
    {
     "name": "stdout",
     "output_type": "stream",
     "text": [
      "Populating the interactive namespace from numpy and matplotlib\n"
     ]
    }
   ],
   "source": [
    "##import needed modules\n",
    "from pandas import Series, DataFrame\n",
    "import pandas as pd\n",
    "from patsy import dmatrices\n",
    "import matplotlib.pyplot as plt \n",
    "import numpy as np \n",
    "from sklearn.linear_model import LogisticRegression \n",
    "from sklearn.preprocessing import StandardScaler \n",
    "from sklearn.metrics import confusion_matrix, classification_report \n",
    "%pylab inline\n",
    "import copy\n",
    "# import the file\n",
    "df = pd.read_csv(r'Churn_Modelling.csv',error_bad_lines=False)\n",
    "\n",
    "# Drop unnecessary columns\n",
    "df2= df.drop(['RowNumber', 'CustomerId', 'Surname'], axis = 1) \n",
    "#create design matrices\n",
    "Y, X = dmatrices('Exited ~ 0 + CreditScore + Geography + Gender + Age + Tenure + Balance + NumOfProducts + HasCrCard + IsActiveMember + EstimatedSalary', df2, return_type=\"dataframe\")\n"
   ]
  },
  {
   "cell_type": "markdown",
   "metadata": {},
   "source": [
    "# Random Sample KNN"
   ]
  },
  {
   "cell_type": "code",
   "execution_count": 24,
   "metadata": {},
   "outputs": [
    {
     "name": "stderr",
     "output_type": "stream",
     "text": [
      "C:\\Users\\AsuS\\Anaconda2\\lib\\site-packages\\ipykernel_launcher.py:12: DataConversionWarning: A column-vector y was passed when a 1d array was expected. Please change the shape of y to (n_samples, ), for example using ravel().\n",
      "  if sys.path[0] == '':\n"
     ]
    },
    {
     "name": "stdout",
     "output_type": "stream",
     "text": [
      "Model accuracy of training dataset is:  0.7985714285714286\n",
      "Model accuracy of test dataset is:  0.791\n"
     ]
    }
   ],
   "source": [
    "#split up data into training and testing set\n",
    "from sklearn.model_selection import train_test_split\n",
    "X_train, X_test, y_train, y_test = train_test_split(X, Y, test_size=0.3, random_state=1)\n",
    "\n",
    "#set up the classifier\n",
    "from sklearn import neighbors\n",
    "model = neighbors.KNeighborsClassifier(n_neighbors=30,\n",
    "                                       weights='uniform',\n",
    "                                       p=2)\n",
    "\n",
    "#fit the classifier\n",
    "model.fit(X_train, y_train)\n",
    "\n",
    "#run on training data\n",
    "from sklearn import metrics\n",
    "prediction_on_training = model.predict(X_train)\n",
    "print \"Model accuracy of training dataset is: \",metrics.accuracy_score(y_train, prediction_on_training) \n",
    "\n",
    "# Predict accuracy on test dataset\n",
    "predicted_classes = model.predict(X_test)\n",
    "print \"Model accuracy of test dataset is: \",metrics.accuracy_score(y_test, predicted_classes)"
   ]
  },
  {
   "cell_type": "code",
   "execution_count": 12,
   "metadata": {},
   "outputs": [
    {
     "name": "stdout",
     "output_type": "stream",
     "text": [
      "('train indices =', array([1, 2, 4, 5]), 'holdout indices =', array([0, 3]))\n",
      "('train indices =', array([0, 2, 3, 5]), 'holdout indices =', array([1, 4]))\n",
      "('train indices =', array([0, 1, 3, 4]), 'holdout indices =', array([2, 5]))\n"
     ]
    }
   ],
   "source": [
    "#Varying model paramters\n",
    "from sklearn import model_selection\n",
    "\n",
    "kfold = model_selection.StratifiedKFold(n_splits=3).split(X=X[:6], y=[0,0,0,1,1,1])\n",
    "for train, holdout in kfold:\n",
    "    print('train indices =', train, 'holdout indices =', holdout)"
   ]
  },
  {
   "cell_type": "code",
   "execution_count": 20,
   "metadata": {},
   "outputs": [],
   "source": [
    "def cv_accuracy_score(X, y, nn):\n",
    "    \"\"\"For each fold, fit the nearest neighbors model\n",
    "    with nn nearest neighbors on the train, and return accuracy\n",
    "    on the test.\"\"\"\n",
    "    \n",
    "    model = neighbors.KNeighborsClassifier(n_neighbors=nn,\n",
    "                                           weights='uniform')\n",
    "    accuracies = []\n",
    "    \n",
    "    kfold = model_selection.StratifiedKFold(n_splits=3, shuffle=True).split(X, y)\n",
    "    for train, holdout in kfold:\n",
    "        # Select the training and testing data using the indices\n",
    "        # provided by kfold\n",
    "        X_train = X.iloc[train]\n",
    "        X_holdout = X.iloc[holdout]\n",
    "        y_train = y.iloc[train]\n",
    "        y_holdout = y.iloc[holdout]\n",
    "        \n",
    "        # Fit the model\n",
    "        model.fit(X_train, y_train)\n",
    "        \n",
    "        # Compute test accuracy\n",
    "        accuracy = metrics.accuracy_score(y_holdout, model.predict(X_holdout))\n",
    "        accuracies.append(accuracy)\n",
    "    \n",
    "    average_accuracy = sum(accuracies) * 1.0 / len(accuracies)\n",
    "    return average_accuracy"
   ]
  },
  {
   "cell_type": "code",
   "execution_count": 21,
   "metadata": {},
   "outputs": [
    {
     "name": "stderr",
     "output_type": "stream",
     "text": [
      "C:\\Users\\AsuS\\Anaconda2\\lib\\site-packages\\ipykernel_launcher.py:20: DataConversionWarning: A column-vector y was passed when a 1d array was expected. Please change the shape of y to (n_samples, ), for example using ravel().\n"
     ]
    },
    {
     "data": {
      "text/plain": [
       "Text(0,0.5,'Accuracy of classifier')"
      ]
     },
     "execution_count": 21,
     "metadata": {},
     "output_type": "execute_result"
    },
    {
     "data": {
      "image/png": "[encoded data removed]",
      "text/plain": [
       "<Figure size 432x288 with 1 Axes>"
      ]
     },
     "metadata": {
      "needs_background": "light"
     },
     "output_type": "display_data"
    }
   ],
   "source": [
    "#Get the corresponding cross-validation accuracy scores\n",
    "scores= [cv_accuracy_score(X, Y, num_nbrs) for num_nbrs in nn]\n",
    "\n",
    "#plot accuracy scores versus the number of nearest neighbors\n",
    "plot(nn, scores)\n",
    "xlabel('Number of nearest neighbors')\n",
    "ylabel('Accuracy of classifier')"
   ]
  },
  {
   "cell_type": "markdown",
   "metadata": {},
   "source": [
    "##### Finding:\n",
    "- k~ 25-30 looks like it would be good "
   ]
  }
 ],
 "metadata": {
  "kernelspec": {
   "display_name": "Python 2",
   "language": "python",
   "name": "python2"
  },
  "language_info": {
   "codemirror_mode": {
    "name": "ipython",
    "version": 2
   },
   "file_extension": ".py",
   "mimetype": "text/x-python",
   "name": "python",
   "nbconvert_exporter": "python",
   "pygments_lexer": "ipython2",
   "version": "2.7.16"
  }
 },
 "nbformat": 4,
 "nbformat_minor": 2
}
