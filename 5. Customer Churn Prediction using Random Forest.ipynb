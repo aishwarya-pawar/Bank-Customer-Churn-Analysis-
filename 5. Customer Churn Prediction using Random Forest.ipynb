{
 "cells": [
  {
   "cell_type": "markdown",
   "metadata": {},
   "source": [
    "#### Random Forest to predict customers who are likely to churn\n",
    "\n",
    "With random forest, we predicted the customers who are likely to churn with 86.03% accuracy"
   ]
  },
  {
   "cell_type": "code",
   "execution_count": 4,
   "metadata": {},
   "outputs": [
    {
     "name": "stdout",
     "output_type": "stream",
     "text": [
      "Populating the interactive namespace from numpy and matplotlib\n"
     ]
    },
    {
     "name": "stderr",
     "output_type": "stream",
     "text": [
      "C:\\Users\\AsuS\\Anaconda2\\lib\\site-packages\\IPython\\core\\magics\\pylab.py:161: UserWarning: pylab import has clobbered these variables: ['test']\n",
      "`%matplotlib` prevents importing * from pylab and numpy\n",
      "  \"\\n`%matplotlib` prevents importing * from pylab and numpy\"\n"
     ]
    }
   ],
   "source": [
    "# Import the required libraries\n",
    "import pandas as pd\n",
    "import numpy as np\n",
    "import patsy as pt\n",
    "%pylab inline\n",
    "from sklearn.ensemble import RandomForestClassifier \n",
    "from sklearn.model_selection import train_test_split\n",
    "from sklearn.metrics import confusion_matrix\n",
    "import itertools\n",
    "from patsy import dmatrices\n",
    "from subprocess import check_call\n",
    "\n",
    "\n",
    "#Import the data :\n",
    "df = pd.read_csv('Churn_Modelling.csv',error_bad_lines=False)\n",
    "\n",
    "# One Hot Encoding\n",
    "df1 = pd.get_dummies(df.iloc[:,3:14])\n",
    "\n",
    "# Extract features and labels\n",
    "labels=df1['Exited']\n",
    "\n",
    "# Training and Testing Sets\n",
    "df1 = df1.drop('Exited', axis = 1)\n",
    "train, test, train_labels, test_labels = train_test_split(df1,labels, test_size = 0.3, random_state = 11)\n",
    "\n",
    "#create test data set :\n",
    "test_df=test.merge(test_labels, right_index=True,left_index=True)\n",
    "#test_df[:10]\n"
   ]
  },
  {
   "cell_type": "code",
   "execution_count": 5,
   "metadata": {},
   "outputs": [],
   "source": [
    "# Build random forest model:\n",
    "\n",
    "rf_exp = RandomForestClassifier(n_estimators= 1000,bootstrap = True, random_state=100)\n",
    "rf_exp.fit(train, train_labels)\n",
    "\n",
    "# Make predictions on test data\n",
    "predictions = rf_exp.predict(test)\n",
    "train_rf_probs = rf_exp.predict_proba(test)[:, 1]"
   ]
  },
  {
   "cell_type": "code",
   "execution_count": 6,
   "metadata": {},
   "outputs": [
    {
     "name": "stdout",
     "output_type": "stream",
     "text": [
      "The model accuracy is : 86.03  %\n",
      "Confustion Matrix: \n",
      "[[2287   88]\n",
      " [ 331  294]]\n"
     ]
    }
   ],
   "source": [
    "## Confusion Matrix\n",
    "\n",
    "cm = confusion_matrix(test_labels, predictions)\n",
    "\n",
    "# Calculate the model accuracy\n",
    "accuracy = (cm[0,0]+cm[1,1])*1.0/(cm[0,0]+cm[0,1]+cm[1,0]+cm[1,1])\n",
    "\n",
    "print \"The model accuracy is :\", round((accuracy*100),2), \" %\"\n",
    "\n",
    "print \"Confustion Matrix: \"\n",
    "print cm\n"
   ]
  },
  {
   "cell_type": "code",
   "execution_count": 7,
   "metadata": {},
   "outputs": [
    {
     "data": {
      "text/plain": [
       "<matplotlib.axes._subplots.AxesSubplot at 0xd98d710>"
      ]
     },
     "execution_count": 7,
     "metadata": {},
     "output_type": "execute_result"
    },
    {
     "data": {
      "image/png": "[encoded data removed]",
      "text/plain": [
       "<Figure size 432x288 with 1 Axes>"
      ]
     },
     "metadata": {
      "needs_background": "light"
     },
     "output_type": "display_data"
    }
   ],
   "source": [
    "# Metrics importance:\n",
    "importances = list(rf_exp.feature_importances_)\n",
    "col_list = list(df1.columns)\n",
    "feat_importances = pd.Series(rf_exp.feature_importances_, index=train.columns)\n",
    "feat_importances.sort_values(ascending=True).plot(kind='barh')"
   ]
  },
  {
   "cell_type": "code",
   "execution_count": 9,
   "metadata": {},
   "outputs": [
    {
     "data": {
      "text/plain": [
       "[('CreditScore', 0.14),\n",
       " ('Age', 0.24),\n",
       " ('Tenure', 0.08),\n",
       " ('Balance', 0.14),\n",
       " ('NumOfProducts', 0.13),\n",
       " ('HasCrCard', 0.02),\n",
       " ('IsActiveMember', 0.04),\n",
       " ('EstimatedSalary', 0.15),\n",
       " ('Geography_France', 0.01),\n",
       " ('Geography_Germany', 0.02),\n",
       " ('Geography_Spain', 0.01),\n",
       " ('Gender_Female', 0.01),\n",
       " ('Gender_Male', 0.01)]"
      ]
     },
     "execution_count": 9,
     "metadata": {},
     "output_type": "execute_result"
    }
   ],
   "source": [
    "# Get numerical feature importances\n",
    "importances = list(rf_exp.feature_importances_)\n",
    "# List of tuples with variable and importance\n",
    "feature_importances = [(df1, round(importance, 2)) for df1, importance in zip(col_list, importances)]\n",
    "\n",
    "feature_importances"
   ]
  },
  {
   "cell_type": "markdown",
   "metadata": {},
   "source": [
    "###### Important Variables :\n",
    "Credit Score , Age , Estimated Salary Balance and Number of Bank Products used are important features while deciding the probability of a customer getting churned "
   ]
  }
 ],
 "metadata": {
  "kernelspec": {
   "display_name": "Python 2",
   "language": "python",
   "name": "python2"
  },
  "language_info": {
   "codemirror_mode": {
    "name": "ipython",
    "version": 2
   },
   "file_extension": ".py",
   "mimetype": "text/x-python",
   "name": "python",
   "nbconvert_exporter": "python",
   "pygments_lexer": "ipython2",
   "version": "2.7.16"
  }
 },
 "nbformat": 4,
 "nbformat_minor": 2
}
