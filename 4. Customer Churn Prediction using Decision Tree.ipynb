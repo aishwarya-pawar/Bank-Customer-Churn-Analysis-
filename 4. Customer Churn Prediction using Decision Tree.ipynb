{
 "cells": [
  {
   "cell_type": "markdown",
   "metadata": {},
   "source": [
    "#### Decision Tree to predict customers who are likely to churn\n",
    "\n",
    "With decision tree, we predicted the customers who are likely to churn with 82.56% accuracy"
   ]
  },
  {
   "cell_type": "code",
   "execution_count": 1,
   "metadata": {},
   "outputs": [
    {
     "name": "stdout",
     "output_type": "stream",
     "text": [
      "Populating the interactive namespace from numpy and matplotlib\n"
     ]
    }
   ],
   "source": [
    "import pandas as pd\n",
    "import numpy as np\n",
    "import patsy as pt\n",
    "%pylab inline\n",
    "from sklearn.ensemble import RandomForestClassifier \n",
    "from sklearn.model_selection import train_test_split\n",
    "from sklearn.metrics import confusion_matrix\n",
    "import itertools\n",
    "from patsy import dmatrices\n",
    "from subprocess import check_call\n",
    "from sklearn import tree\n",
    "from sklearn import metrics\n",
    "\n",
    "#Import the data :\n",
    "df = pd.read_csv('Churn_Modelling.csv',error_bad_lines=False)\n",
    "\n",
    "formula = 'Exited ~ 0 + EstimatedSalary+CreditScore+ Age+HasCrCard+IsActiveMember + Tenure+ Balance + NumOfProducts + C(Geography) + C(Gender)'\n",
    "Y, X = pt.dmatrices(formula, df, return_type='dataframe')\n",
    "y = Y['Exited'].values\n",
    "\n",
    "#Split the data into train and test\n",
    "X_train, X_test, y_train, y_test = train_test_split(X, y, test_size=0.3, random_state=1)\n",
    "\n"
   ]
  },
  {
   "cell_type": "code",
   "execution_count": 2,
   "metadata": {},
   "outputs": [
    {
     "name": "stdout",
     "output_type": "stream",
     "text": [
      "Model accuracy on training dataset:  0.831\n",
      "Model accuracy on test dataset:  0.8256666666666667\n"
     ]
    }
   ],
   "source": [
    "# Build the model\n",
    "model2 = tree.DecisionTreeClassifier(criterion='entropy', max_depth=2)\n",
    "result = model2.fit(X_train, y_train)\n",
    "\n",
    "# Predict on training dataset\n",
    "prediction_train = model2.predict(X_train)\n",
    "print \"Model accuracy on training dataset: \",metrics.accuracy_score(y_train, prediction_train)\n",
    "\n",
    "# Predict on Tese dataset\n",
    "prediction = model2.predict(X_test)\n",
    "print \"Model accuracy on test dataset: \",metrics.accuracy_score(y_test, prediction)\n",
    "\n",
    "\n"
   ]
  },
  {
   "cell_type": "markdown",
   "metadata": {},
   "source": [
    "###### Important Variables :\n",
    "Credit Score , Age , Estimated Salary Balance and Number of Bank Products used are important features while deciding the probability of a customer getting churned "
   ]
  }
 ],
 "metadata": {
  "kernelspec": {
   "display_name": "Python 2",
   "language": "python",
   "name": "python2"
  },
  "language_info": {
   "codemirror_mode": {
    "name": "ipython",
    "version": 2
   },
   "file_extension": ".py",
   "mimetype": "text/x-python",
   "name": "python",
   "nbconvert_exporter": "python",
   "pygments_lexer": "ipython2",
   "version": "2.7.16"
  }
 },
 "nbformat": 4,
 "nbformat_minor": 2
}
