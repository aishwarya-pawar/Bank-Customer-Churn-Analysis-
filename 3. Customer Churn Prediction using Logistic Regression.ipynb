{
 "cells": [
  {
   "cell_type": "markdown",
   "metadata": {},
   "source": [
    "#### Logistic Regression to predict customers who are likely to churn\n",
    "\n",
    "With logistic regression, we predicted the customers who are likely to churn with 78.7% accuracy"
   ]
  },
  {
   "cell_type": "code",
   "execution_count": 1,
   "metadata": {},
   "outputs": [
    {
     "name": "stdout",
     "output_type": "stream",
     "text": [
      "Populating the interactive namespace from numpy and matplotlib\n"
     ]
    }
   ],
   "source": [
    "# Import the required libraries\n",
    "import pandas as pd\n",
    "import numpy as np\n",
    "import patsy as pt\n",
    "%pylab inline\n",
    "from sklearn.linear_model import LogisticRegression \n",
    "import statsmodels.api as sm\n",
    "from sklearn.model_selection import train_test_split\n",
    "from sklearn.metrics import confusion_matrix\n",
    "import itertools\n",
    "from scipy import stats\n",
    "from sklearn import metrics\n",
    "\n",
    "#Import the data :\n",
    "df = pd.read_csv('Churn_Modelling.csv',error_bad_lines=False)\n",
    "\n",
    "# Data Processing \n",
    "\n",
    "formula = 'Exited ~ 0 + EstimatedSalary+CreditScore+ Age+HasCrCard+IsActiveMember + Tenure+ Balance + NumOfProducts + C(Geography) + C(Gender)'\n",
    "Y, X = pt.dmatrices(formula, df, return_type='dataframe')\n",
    "y = Y['Exited'].values\n",
    "\n",
    "#Split the data into train and test\n",
    "X_train, X_test, y_train, y_test = train_test_split(X, y, test_size=0.3, random_state=1)\n",
    "\n"
   ]
  },
  {
   "cell_type": "code",
   "execution_count": 6,
   "metadata": {},
   "outputs": [
    {
     "name": "stdout",
     "output_type": "stream",
     "text": [
      "Model accuracy on test dataset:  0.794\n",
      "Model accuracy on test dataset:  0.787\n",
      "Confustion Matrix: \n",
      "[[2338   35]\n",
      " [ 604   23]]\n"
     ]
    }
   ],
   "source": [
    "# Train the logistic regression model\n",
    "model = LogisticRegression()\n",
    "result = model.fit(X_train, y_train)\n",
    "model.fit(X_train, y_train)\n",
    "\n",
    "# Predict on training dataset\n",
    "prediction_train = model.predict(X_train)\n",
    "print \"Model accuracy on test dataset: \",metrics.accuracy_score(y_train, prediction_train)\n",
    "\n",
    "#Predict on test dataset\n",
    "prediction = model.predict(X_test)\n",
    "print \"Model accuracy on test dataset: \",metrics.accuracy_score(y_test, prediction)\n",
    "\n",
    "conf_mat=confusion_matrix(y_test, prediction, labels=None, sample_weight=None)\n",
    "\n",
    "print \"Confustion Matrix: \"\n",
    "print conf_mat  \n",
    "\n"
   ]
  },
  {
   "cell_type": "code",
   "execution_count": 7,
   "metadata": {},
   "outputs": [
    {
     "data": {
      "text/plain": [
       "Tenure                  -0.015447\n",
       "IsActiveMember          -0.015181\n",
       "C(Gender)[T.Male]       -0.010610\n",
       "C(Geography)[France]    -0.008061\n",
       "NumOfProducts           -0.006151\n",
       "CreditScore             -0.004716\n",
       "C(Geography)[Spain]     -0.003240\n",
       "HasCrCard               -0.003032\n",
       "EstimatedSalary         -0.000002\n",
       "Balance                  0.000004\n",
       "C(Geography)[Germany]    0.007716\n",
       "Age                      0.041175\n",
       "dtype: float64"
      ]
     },
     "execution_count": 7,
     "metadata": {},
     "output_type": "execute_result"
    }
   ],
   "source": [
    "# Coefficients :\n",
    "weights = pd.Series(model.coef_[0],\n",
    "                 index=X.columns.values)\n",
    "weights.sort_values()"
   ]
  }
 ],
 "metadata": {
  "kernelspec": {
   "display_name": "Python 2",
   "language": "python",
   "name": "python2"
  },
  "language_info": {
   "codemirror_mode": {
    "name": "ipython",
    "version": 2
   },
   "file_extension": ".py",
   "mimetype": "text/x-python",
   "name": "python",
   "nbconvert_exporter": "python",
   "pygments_lexer": "ipython2",
   "version": "2.7.16"
  }
 },
 "nbformat": 4,
 "nbformat_minor": 2
}
